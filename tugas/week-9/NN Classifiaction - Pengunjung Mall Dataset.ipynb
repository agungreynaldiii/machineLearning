{
 "cells": [
  {
   "cell_type": "markdown",
   "metadata": {},
   "source": [
    "## NAMA    : AGUNG REYNALDI AVIZENA <BR>NIM     : 1103204044 <BR>TUGAS KE - 9\n",
    "---- \n",
    "## CLASSIFICATION NEURAL NETWORK <BR> DATASET  : [*PENGUNJUNG MALL*](https://www.kaggle.com/datasets/baktisiregar/datapengunjungmall)"
   ]
  },
  {
   "cell_type": "code",
   "execution_count": 1,
   "metadata": {},
   "outputs": [
    {
     "name": "stdout",
     "output_type": "stream",
     "text": [
      "WARNING:tensorflow:From c:\\Users\\agung\\anaconda3\\lib\\site-packages\\keras\\src\\losses.py:2976: The name tf.losses.sparse_softmax_cross_entropy is deprecated. Please use tf.compat.v1.losses.sparse_softmax_cross_entropy instead.\n",
      "\n"
     ]
    }
   ],
   "source": [
    "import pandas as pd\n",
    "import numpy as np\n",
    "import tensorflow as tf\n",
    "\n",
    "from sklearn.model_selection import train_test_split\n",
    "from sklearn.preprocessing import StandardScaler, LabelEncoder"
   ]
  },
  {
   "cell_type": "code",
   "execution_count": 2,
   "metadata": {},
   "outputs": [],
   "source": [
    "# Baca data dari file CSV\n",
    "data = pd.read_csv(\"Pengunjung_Mall.csv\")"
   ]
  },
  {
   "cell_type": "code",
   "execution_count": 3,
   "metadata": {},
   "outputs": [
    {
     "data": {
      "text/html": [
       "<div>\n",
       "<style scoped>\n",
       "    .dataframe tbody tr th:only-of-type {\n",
       "        vertical-align: middle;\n",
       "    }\n",
       "\n",
       "    .dataframe tbody tr th {\n",
       "        vertical-align: top;\n",
       "    }\n",
       "\n",
       "    .dataframe thead th {\n",
       "        text-align: right;\n",
       "    }\n",
       "</style>\n",
       "<table border=\"1\" class=\"dataframe\">\n",
       "  <thead>\n",
       "    <tr style=\"text-align: right;\">\n",
       "      <th></th>\n",
       "      <th>ID_Pelanggan</th>\n",
       "      <th>Gender</th>\n",
       "      <th>Usia</th>\n",
       "      <th>Pendapatan_Tahunan_Ribuan_USD</th>\n",
       "      <th>Pengeluaran_USD</th>\n",
       "    </tr>\n",
       "  </thead>\n",
       "  <tbody>\n",
       "    <tr>\n",
       "      <th>0</th>\n",
       "      <td>1</td>\n",
       "      <td>Pria</td>\n",
       "      <td>19</td>\n",
       "      <td>15</td>\n",
       "      <td>39</td>\n",
       "    </tr>\n",
       "    <tr>\n",
       "      <th>1</th>\n",
       "      <td>2</td>\n",
       "      <td>Pria</td>\n",
       "      <td>21</td>\n",
       "      <td>15</td>\n",
       "      <td>81</td>\n",
       "    </tr>\n",
       "    <tr>\n",
       "      <th>2</th>\n",
       "      <td>3</td>\n",
       "      <td>Wanita</td>\n",
       "      <td>20</td>\n",
       "      <td>16</td>\n",
       "      <td>6</td>\n",
       "    </tr>\n",
       "    <tr>\n",
       "      <th>3</th>\n",
       "      <td>4</td>\n",
       "      <td>Wanita</td>\n",
       "      <td>23</td>\n",
       "      <td>16</td>\n",
       "      <td>77</td>\n",
       "    </tr>\n",
       "    <tr>\n",
       "      <th>4</th>\n",
       "      <td>5</td>\n",
       "      <td>Wanita</td>\n",
       "      <td>31</td>\n",
       "      <td>17</td>\n",
       "      <td>40</td>\n",
       "    </tr>\n",
       "  </tbody>\n",
       "</table>\n",
       "</div>"
      ],
      "text/plain": [
       "   ID_Pelanggan  Gender  Usia  Pendapatan_Tahunan_Ribuan_USD  Pengeluaran_USD\n",
       "0             1    Pria    19                             15               39\n",
       "1             2    Pria    21                             15               81\n",
       "2             3  Wanita    20                             16                6\n",
       "3             4  Wanita    23                             16               77\n",
       "4             5  Wanita    31                             17               40"
      ]
     },
     "execution_count": 3,
     "metadata": {},
     "output_type": "execute_result"
    }
   ],
   "source": [
    "data.head()"
   ]
  },
  {
   "cell_type": "code",
   "execution_count": 4,
   "metadata": {},
   "outputs": [
    {
     "name": "stdout",
     "output_type": "stream",
     "text": [
      "<class 'pandas.core.frame.DataFrame'>\n",
      "RangeIndex: 200 entries, 0 to 199\n",
      "Data columns (total 5 columns):\n",
      " #   Column                         Non-Null Count  Dtype \n",
      "---  ------                         --------------  ----- \n",
      " 0   ID_Pelanggan                   200 non-null    int64 \n",
      " 1   Gender                         200 non-null    object\n",
      " 2   Usia                           200 non-null    int64 \n",
      " 3   Pendapatan_Tahunan_Ribuan_USD  200 non-null    int64 \n",
      " 4   Pengeluaran_USD                200 non-null    int64 \n",
      "dtypes: int64(4), object(1)\n",
      "memory usage: 7.9+ KB\n"
     ]
    }
   ],
   "source": [
    "data.info()"
   ]
  },
  {
   "cell_type": "code",
   "execution_count": 5,
   "metadata": {},
   "outputs": [],
   "source": [
    "# Preprocessing data\n",
    "X = data[['Usia', 'Pendapatan_Tahunan_Ribuan_USD', 'Pengeluaran_USD']]\n",
    "y = data['Gender']"
   ]
  },
  {
   "cell_type": "code",
   "execution_count": 6,
   "metadata": {},
   "outputs": [],
   "source": [
    "# Mengubah kolom 'Gender' menjadi angka (0 untuk Pria, 1 untuk Wanita)\n",
    "label_encoder = LabelEncoder()\n",
    "y = label_encoder.fit_transform(y)"
   ]
  },
  {
   "cell_type": "code",
   "execution_count": 9,
   "metadata": {},
   "outputs": [],
   "source": [
    "# Normalisasi fitur menggunakan StandardScaler\n",
    "scaler = StandardScaler()\n",
    "X = scaler.fit_transform(X)"
   ]
  },
  {
   "cell_type": "code",
   "execution_count": 10,
   "metadata": {},
   "outputs": [],
   "source": [
    "# Pisahkan data menjadi data latih dan data uji\n",
    "X_train, X_test, y_train, y_test = train_test_split(X, y, test_size=0.2, random_state=42)"
   ]
  },
  {
   "cell_type": "code",
   "execution_count": 11,
   "metadata": {},
   "outputs": [
    {
     "name": "stdout",
     "output_type": "stream",
     "text": [
      "WARNING:tensorflow:From c:\\Users\\agung\\anaconda3\\lib\\site-packages\\keras\\src\\backend.py:873: The name tf.get_default_graph is deprecated. Please use tf.compat.v1.get_default_graph instead.\n",
      "\n"
     ]
    }
   ],
   "source": [
    "# Membangun model sequential\n",
    "model = tf.keras.Sequential([\n",
    "    tf.keras.layers.Dense(64, activation='relu', input_shape=(X_train.shape[1],)),\n",
    "    tf.keras.layers.Dense(32, activation='relu'),\n",
    "    tf.keras.layers.Dense(1, activation='sigmoid')\n",
    "])"
   ]
  },
  {
   "cell_type": "code",
   "execution_count": 12,
   "metadata": {},
   "outputs": [
    {
     "name": "stdout",
     "output_type": "stream",
     "text": [
      "WARNING:tensorflow:From c:\\Users\\agung\\anaconda3\\lib\\site-packages\\keras\\src\\optimizers\\__init__.py:309: The name tf.train.Optimizer is deprecated. Please use tf.compat.v1.train.Optimizer instead.\n",
      "\n"
     ]
    }
   ],
   "source": [
    "# Kompilasi model dengan optimizer, loss function, dan metrik yang sesuai\n",
    "model.compile(optimizer='adam', loss='binary_crossentropy', metrics=['accuracy'])"
   ]
  },
  {
   "cell_type": "code",
   "execution_count": 23,
   "metadata": {},
   "outputs": [
    {
     "name": "stdout",
     "output_type": "stream",
     "text": [
      "Epoch 1/100\n",
      " 1/16 [>.............................] - ETA: 0s - loss: 0.3451 - accuracy: 0.9000"
     ]
    },
    {
     "name": "stdout",
     "output_type": "stream",
     "text": [
      "16/16 [==============================] - 0s 6ms/step - loss: 0.3094 - accuracy: 0.8500 - val_loss: 0.8851 - val_accuracy: 0.6000\n",
      "Epoch 2/100\n",
      "16/16 [==============================] - 0s 4ms/step - loss: 0.3071 - accuracy: 0.8625 - val_loss: 0.8848 - val_accuracy: 0.5500\n",
      "Epoch 3/100\n",
      "16/16 [==============================] - 0s 4ms/step - loss: 0.3080 - accuracy: 0.8625 - val_loss: 0.8927 - val_accuracy: 0.6000\n",
      "Epoch 4/100\n",
      "16/16 [==============================] - 0s 4ms/step - loss: 0.3051 - accuracy: 0.8625 - val_loss: 0.8873 - val_accuracy: 0.5750\n",
      "Epoch 5/100\n",
      "16/16 [==============================] - 0s 4ms/step - loss: 0.3078 - accuracy: 0.8438 - val_loss: 0.8840 - val_accuracy: 0.6000\n",
      "Epoch 6/100\n",
      "16/16 [==============================] - 0s 4ms/step - loss: 0.3033 - accuracy: 0.8687 - val_loss: 0.8890 - val_accuracy: 0.6000\n",
      "Epoch 7/100\n",
      "16/16 [==============================] - 0s 4ms/step - loss: 0.3005 - accuracy: 0.8750 - val_loss: 0.8882 - val_accuracy: 0.6000\n",
      "Epoch 8/100\n",
      "16/16 [==============================] - 0s 3ms/step - loss: 0.3020 - accuracy: 0.8687 - val_loss: 0.8899 - val_accuracy: 0.5750\n",
      "Epoch 9/100\n",
      "16/16 [==============================] - 0s 4ms/step - loss: 0.3086 - accuracy: 0.8562 - val_loss: 0.8958 - val_accuracy: 0.6000\n",
      "Epoch 10/100\n",
      "16/16 [==============================] - 0s 3ms/step - loss: 0.3104 - accuracy: 0.8438 - val_loss: 0.8968 - val_accuracy: 0.6000\n",
      "Epoch 11/100\n",
      "16/16 [==============================] - 0s 4ms/step - loss: 0.3082 - accuracy: 0.8500 - val_loss: 0.8957 - val_accuracy: 0.5750\n",
      "Epoch 12/100\n",
      "16/16 [==============================] - 0s 4ms/step - loss: 0.3039 - accuracy: 0.8562 - val_loss: 0.8991 - val_accuracy: 0.6000\n",
      "Epoch 13/100\n",
      "16/16 [==============================] - 0s 4ms/step - loss: 0.3041 - accuracy: 0.8687 - val_loss: 0.8923 - val_accuracy: 0.6000\n",
      "Epoch 14/100\n",
      "16/16 [==============================] - 0s 5ms/step - loss: 0.2975 - accuracy: 0.8562 - val_loss: 0.9030 - val_accuracy: 0.6000\n",
      "Epoch 15/100\n",
      "16/16 [==============================] - 0s 5ms/step - loss: 0.3012 - accuracy: 0.8500 - val_loss: 0.9025 - val_accuracy: 0.5750\n",
      "Epoch 16/100\n",
      "16/16 [==============================] - 0s 5ms/step - loss: 0.2984 - accuracy: 0.8687 - val_loss: 0.8890 - val_accuracy: 0.6000\n",
      "Epoch 17/100\n",
      "16/16 [==============================] - 0s 4ms/step - loss: 0.3031 - accuracy: 0.8562 - val_loss: 0.8936 - val_accuracy: 0.6000\n",
      "Epoch 18/100\n",
      "16/16 [==============================] - 0s 4ms/step - loss: 0.2996 - accuracy: 0.8750 - val_loss: 0.9032 - val_accuracy: 0.6000\n",
      "Epoch 19/100\n",
      "16/16 [==============================] - 0s 4ms/step - loss: 0.3025 - accuracy: 0.8687 - val_loss: 0.8998 - val_accuracy: 0.5750\n",
      "Epoch 20/100\n",
      "16/16 [==============================] - 0s 3ms/step - loss: 0.2970 - accuracy: 0.8562 - val_loss: 0.9012 - val_accuracy: 0.5750\n",
      "Epoch 21/100\n",
      "16/16 [==============================] - 0s 3ms/step - loss: 0.2958 - accuracy: 0.8813 - val_loss: 0.8992 - val_accuracy: 0.6000\n",
      "Epoch 22/100\n",
      "16/16 [==============================] - 0s 6ms/step - loss: 0.3045 - accuracy: 0.8625 - val_loss: 0.8945 - val_accuracy: 0.6000\n",
      "Epoch 23/100\n",
      "16/16 [==============================] - 0s 3ms/step - loss: 0.3064 - accuracy: 0.8438 - val_loss: 0.9023 - val_accuracy: 0.6000\n",
      "Epoch 24/100\n",
      "16/16 [==============================] - 0s 4ms/step - loss: 0.2953 - accuracy: 0.8687 - val_loss: 0.8965 - val_accuracy: 0.5750\n",
      "Epoch 25/100\n",
      "16/16 [==============================] - 0s 4ms/step - loss: 0.3033 - accuracy: 0.8562 - val_loss: 0.9071 - val_accuracy: 0.6000\n",
      "Epoch 26/100\n",
      "16/16 [==============================] - 0s 4ms/step - loss: 0.2994 - accuracy: 0.8625 - val_loss: 0.9074 - val_accuracy: 0.6000\n",
      "Epoch 27/100\n",
      "16/16 [==============================] - 0s 4ms/step - loss: 0.3075 - accuracy: 0.8750 - val_loss: 0.9081 - val_accuracy: 0.6000\n",
      "Epoch 28/100\n",
      "16/16 [==============================] - 0s 4ms/step - loss: 0.2978 - accuracy: 0.8687 - val_loss: 0.8970 - val_accuracy: 0.6000\n",
      "Epoch 29/100\n",
      "16/16 [==============================] - 0s 4ms/step - loss: 0.2971 - accuracy: 0.8625 - val_loss: 0.9011 - val_accuracy: 0.6000\n",
      "Epoch 30/100\n",
      "16/16 [==============================] - 0s 4ms/step - loss: 0.2945 - accuracy: 0.8625 - val_loss: 0.9049 - val_accuracy: 0.6000\n",
      "Epoch 31/100\n",
      "16/16 [==============================] - 0s 4ms/step - loss: 0.2985 - accuracy: 0.8625 - val_loss: 0.9024 - val_accuracy: 0.6000\n",
      "Epoch 32/100\n",
      "16/16 [==============================] - 0s 4ms/step - loss: 0.2988 - accuracy: 0.8562 - val_loss: 0.9167 - val_accuracy: 0.6000\n",
      "Epoch 33/100\n",
      "16/16 [==============================] - 0s 5ms/step - loss: 0.2942 - accuracy: 0.8562 - val_loss: 0.9032 - val_accuracy: 0.6000\n",
      "Epoch 34/100\n",
      "16/16 [==============================] - 0s 4ms/step - loss: 0.2945 - accuracy: 0.8625 - val_loss: 0.9082 - val_accuracy: 0.5750\n",
      "Epoch 35/100\n",
      "16/16 [==============================] - 0s 4ms/step - loss: 0.2964 - accuracy: 0.8625 - val_loss: 0.9159 - val_accuracy: 0.6000\n",
      "Epoch 36/100\n",
      "16/16 [==============================] - 0s 4ms/step - loss: 0.2940 - accuracy: 0.8687 - val_loss: 0.9084 - val_accuracy: 0.6000\n",
      "Epoch 37/100\n",
      "16/16 [==============================] - 0s 4ms/step - loss: 0.2977 - accuracy: 0.8625 - val_loss: 0.9129 - val_accuracy: 0.6000\n",
      "Epoch 38/100\n",
      "16/16 [==============================] - 0s 4ms/step - loss: 0.2913 - accuracy: 0.8687 - val_loss: 0.9087 - val_accuracy: 0.6000\n",
      "Epoch 39/100\n",
      "16/16 [==============================] - 0s 4ms/step - loss: 0.2932 - accuracy: 0.8625 - val_loss: 0.9099 - val_accuracy: 0.6000\n",
      "Epoch 40/100\n",
      "16/16 [==============================] - 0s 4ms/step - loss: 0.3044 - accuracy: 0.8438 - val_loss: 0.9197 - val_accuracy: 0.6000\n",
      "Epoch 41/100\n",
      "16/16 [==============================] - 0s 4ms/step - loss: 0.2872 - accuracy: 0.8687 - val_loss: 0.9058 - val_accuracy: 0.6000\n",
      "Epoch 42/100\n",
      "16/16 [==============================] - 0s 4ms/step - loss: 0.2937 - accuracy: 0.8687 - val_loss: 0.9073 - val_accuracy: 0.6000\n",
      "Epoch 43/100\n",
      "16/16 [==============================] - 0s 4ms/step - loss: 0.2929 - accuracy: 0.8750 - val_loss: 0.9085 - val_accuracy: 0.6000\n",
      "Epoch 44/100\n",
      "16/16 [==============================] - 0s 6ms/step - loss: 0.2887 - accuracy: 0.8687 - val_loss: 0.9162 - val_accuracy: 0.6000\n",
      "Epoch 45/100\n",
      "16/16 [==============================] - 0s 3ms/step - loss: 0.2937 - accuracy: 0.8687 - val_loss: 0.9154 - val_accuracy: 0.6000\n",
      "Epoch 46/100\n",
      "16/16 [==============================] - 0s 4ms/step - loss: 0.2905 - accuracy: 0.8687 - val_loss: 0.9040 - val_accuracy: 0.6000\n",
      "Epoch 47/100\n",
      "16/16 [==============================] - 0s 4ms/step - loss: 0.2907 - accuracy: 0.8562 - val_loss: 0.9150 - val_accuracy: 0.6000\n",
      "Epoch 48/100\n",
      "16/16 [==============================] - 0s 4ms/step - loss: 0.2927 - accuracy: 0.8687 - val_loss: 0.9161 - val_accuracy: 0.6000\n",
      "Epoch 49/100\n",
      "16/16 [==============================] - 0s 4ms/step - loss: 0.2958 - accuracy: 0.8500 - val_loss: 0.9128 - val_accuracy: 0.6000\n",
      "Epoch 50/100\n",
      "16/16 [==============================] - 0s 4ms/step - loss: 0.2874 - accuracy: 0.8750 - val_loss: 0.9095 - val_accuracy: 0.6000\n",
      "Epoch 51/100\n",
      "16/16 [==============================] - 0s 4ms/step - loss: 0.2923 - accuracy: 0.8687 - val_loss: 0.9206 - val_accuracy: 0.6000\n",
      "Epoch 52/100\n",
      "16/16 [==============================] - 0s 4ms/step - loss: 0.2964 - accuracy: 0.8750 - val_loss: 0.9231 - val_accuracy: 0.6000\n",
      "Epoch 53/100\n",
      "16/16 [==============================] - 0s 4ms/step - loss: 0.3062 - accuracy: 0.8562 - val_loss: 0.9071 - val_accuracy: 0.6000\n",
      "Epoch 54/100\n",
      "16/16 [==============================] - 0s 4ms/step - loss: 0.3078 - accuracy: 0.8375 - val_loss: 0.9141 - val_accuracy: 0.6000\n",
      "Epoch 55/100\n",
      "16/16 [==============================] - 0s 4ms/step - loss: 0.2883 - accuracy: 0.8562 - val_loss: 0.9132 - val_accuracy: 0.6250\n",
      "Epoch 56/100\n",
      "16/16 [==============================] - 0s 3ms/step - loss: 0.2846 - accuracy: 0.8750 - val_loss: 0.9195 - val_accuracy: 0.6000\n",
      "Epoch 57/100\n",
      "16/16 [==============================] - 0s 4ms/step - loss: 0.2918 - accuracy: 0.8438 - val_loss: 0.9239 - val_accuracy: 0.6000\n",
      "Epoch 58/100\n",
      "16/16 [==============================] - 0s 4ms/step - loss: 0.2883 - accuracy: 0.8625 - val_loss: 0.9168 - val_accuracy: 0.6000\n",
      "Epoch 59/100\n",
      "16/16 [==============================] - 0s 4ms/step - loss: 0.2870 - accuracy: 0.8687 - val_loss: 0.9111 - val_accuracy: 0.6000\n",
      "Epoch 60/100\n",
      "16/16 [==============================] - 0s 4ms/step - loss: 0.2933 - accuracy: 0.8562 - val_loss: 0.9237 - val_accuracy: 0.6000\n",
      "Epoch 61/100\n",
      "16/16 [==============================] - 0s 4ms/step - loss: 0.2961 - accuracy: 0.8625 - val_loss: 0.9179 - val_accuracy: 0.6000\n",
      "Epoch 62/100\n",
      "16/16 [==============================] - 0s 4ms/step - loss: 0.2888 - accuracy: 0.8625 - val_loss: 0.9212 - val_accuracy: 0.6000\n",
      "Epoch 63/100\n",
      "16/16 [==============================] - 0s 4ms/step - loss: 0.2867 - accuracy: 0.8500 - val_loss: 0.9234 - val_accuracy: 0.6000\n",
      "Epoch 64/100\n",
      "16/16 [==============================] - 0s 4ms/step - loss: 0.2882 - accuracy: 0.8813 - val_loss: 0.9203 - val_accuracy: 0.6000\n",
      "Epoch 65/100\n",
      "16/16 [==============================] - 0s 4ms/step - loss: 0.2804 - accuracy: 0.8750 - val_loss: 0.9108 - val_accuracy: 0.6000\n",
      "Epoch 66/100\n",
      "16/16 [==============================] - 0s 3ms/step - loss: 0.2825 - accuracy: 0.8687 - val_loss: 0.9139 - val_accuracy: 0.6000\n",
      "Epoch 67/100\n",
      "16/16 [==============================] - 0s 4ms/step - loss: 0.2840 - accuracy: 0.8750 - val_loss: 0.9190 - val_accuracy: 0.6000\n",
      "Epoch 68/100\n",
      "16/16 [==============================] - 0s 6ms/step - loss: 0.2964 - accuracy: 0.8687 - val_loss: 0.9272 - val_accuracy: 0.6000\n",
      "Epoch 69/100\n",
      "16/16 [==============================] - 0s 3ms/step - loss: 0.2822 - accuracy: 0.8813 - val_loss: 0.9198 - val_accuracy: 0.6000\n",
      "Epoch 70/100\n",
      "16/16 [==============================] - 0s 4ms/step - loss: 0.2877 - accuracy: 0.8813 - val_loss: 0.9251 - val_accuracy: 0.6000\n",
      "Epoch 71/100\n",
      "16/16 [==============================] - 0s 4ms/step - loss: 0.2804 - accuracy: 0.8625 - val_loss: 0.9225 - val_accuracy: 0.6000\n",
      "Epoch 72/100\n",
      "16/16 [==============================] - 0s 4ms/step - loss: 0.2892 - accuracy: 0.8687 - val_loss: 0.9227 - val_accuracy: 0.6000\n",
      "Epoch 73/100\n",
      "16/16 [==============================] - 0s 4ms/step - loss: 0.2858 - accuracy: 0.8687 - val_loss: 0.9209 - val_accuracy: 0.6000\n",
      "Epoch 74/100\n",
      "16/16 [==============================] - 0s 4ms/step - loss: 0.2803 - accuracy: 0.8750 - val_loss: 0.9202 - val_accuracy: 0.6000\n",
      "Epoch 75/100\n",
      "16/16 [==============================] - 0s 4ms/step - loss: 0.2851 - accuracy: 0.8562 - val_loss: 0.9292 - val_accuracy: 0.6000\n",
      "Epoch 76/100\n",
      "16/16 [==============================] - 0s 4ms/step - loss: 0.2825 - accuracy: 0.8750 - val_loss: 0.9192 - val_accuracy: 0.6000\n",
      "Epoch 77/100\n",
      "16/16 [==============================] - 0s 4ms/step - loss: 0.2836 - accuracy: 0.8687 - val_loss: 0.9201 - val_accuracy: 0.6000\n",
      "Epoch 78/100\n",
      "16/16 [==============================] - 0s 4ms/step - loss: 0.2787 - accuracy: 0.8813 - val_loss: 0.9228 - val_accuracy: 0.6000\n",
      "Epoch 79/100\n",
      "16/16 [==============================] - 0s 4ms/step - loss: 0.2844 - accuracy: 0.8625 - val_loss: 0.9317 - val_accuracy: 0.6000\n",
      "Epoch 80/100\n",
      "16/16 [==============================] - 0s 4ms/step - loss: 0.2949 - accuracy: 0.8687 - val_loss: 0.9142 - val_accuracy: 0.6250\n",
      "Epoch 81/100\n",
      "16/16 [==============================] - 0s 4ms/step - loss: 0.2833 - accuracy: 0.8750 - val_loss: 0.9355 - val_accuracy: 0.6000\n",
      "Epoch 82/100\n",
      "16/16 [==============================] - 0s 4ms/step - loss: 0.2796 - accuracy: 0.8625 - val_loss: 0.9207 - val_accuracy: 0.6000\n",
      "Epoch 83/100\n",
      "16/16 [==============================] - 0s 4ms/step - loss: 0.2798 - accuracy: 0.8625 - val_loss: 0.9196 - val_accuracy: 0.6000\n",
      "Epoch 84/100\n",
      "16/16 [==============================] - 0s 4ms/step - loss: 0.2784 - accuracy: 0.8687 - val_loss: 0.9281 - val_accuracy: 0.6000\n",
      "Epoch 85/100\n",
      "16/16 [==============================] - 0s 4ms/step - loss: 0.2884 - accuracy: 0.8562 - val_loss: 0.9398 - val_accuracy: 0.6000\n",
      "Epoch 86/100\n",
      "16/16 [==============================] - 0s 4ms/step - loss: 0.2789 - accuracy: 0.8687 - val_loss: 0.9229 - val_accuracy: 0.6000\n",
      "Epoch 87/100\n",
      "16/16 [==============================] - 0s 4ms/step - loss: 0.2902 - accuracy: 0.8750 - val_loss: 0.9295 - val_accuracy: 0.6000\n",
      "Epoch 88/100\n",
      "16/16 [==============================] - 0s 4ms/step - loss: 0.2826 - accuracy: 0.8625 - val_loss: 0.9363 - val_accuracy: 0.6000\n",
      "Epoch 89/100\n",
      "16/16 [==============================] - 0s 4ms/step - loss: 0.2773 - accuracy: 0.8813 - val_loss: 0.9270 - val_accuracy: 0.6000\n",
      "Epoch 90/100\n",
      "16/16 [==============================] - 0s 4ms/step - loss: 0.2740 - accuracy: 0.8625 - val_loss: 0.9278 - val_accuracy: 0.6000\n",
      "Epoch 91/100\n",
      "16/16 [==============================] - 0s 6ms/step - loss: 0.2768 - accuracy: 0.8875 - val_loss: 0.9403 - val_accuracy: 0.6000\n",
      "Epoch 92/100\n",
      "16/16 [==============================] - 0s 4ms/step - loss: 0.2764 - accuracy: 0.8687 - val_loss: 0.9275 - val_accuracy: 0.6000\n",
      "Epoch 93/100\n",
      "16/16 [==============================] - 0s 4ms/step - loss: 0.2803 - accuracy: 0.8750 - val_loss: 0.9256 - val_accuracy: 0.6000\n",
      "Epoch 94/100\n",
      "16/16 [==============================] - 0s 4ms/step - loss: 0.2898 - accuracy: 0.8750 - val_loss: 0.9326 - val_accuracy: 0.6000\n",
      "Epoch 95/100\n",
      "16/16 [==============================] - 0s 4ms/step - loss: 0.2879 - accuracy: 0.8562 - val_loss: 0.9310 - val_accuracy: 0.6000\n",
      "Epoch 96/100\n",
      "16/16 [==============================] - 0s 4ms/step - loss: 0.3053 - accuracy: 0.8625 - val_loss: 0.9281 - val_accuracy: 0.6000\n",
      "Epoch 97/100\n",
      "16/16 [==============================] - 0s 4ms/step - loss: 0.2838 - accuracy: 0.8687 - val_loss: 0.9430 - val_accuracy: 0.6000\n",
      "Epoch 98/100\n",
      "16/16 [==============================] - 0s 4ms/step - loss: 0.2849 - accuracy: 0.8875 - val_loss: 0.9478 - val_accuracy: 0.6000\n",
      "Epoch 99/100\n",
      "16/16 [==============================] - 0s 4ms/step - loss: 0.2749 - accuracy: 0.8625 - val_loss: 0.9322 - val_accuracy: 0.6000\n",
      "Epoch 100/100\n",
      "16/16 [==============================] - 0s 4ms/step - loss: 0.2812 - accuracy: 0.8500 - val_loss: 0.9298 - val_accuracy: 0.6000\n"
     ]
    },
    {
     "data": {
      "text/plain": [
       "<keras.src.callbacks.History at 0x1f1ac3dffd0>"
      ]
     },
     "execution_count": 23,
     "metadata": {},
     "output_type": "execute_result"
    }
   ],
   "source": [
    "# Melatih model dengan data latih\n",
    "model.fit(X_train, y_train, epochs=100, batch_size=10, validation_data=(X_test, y_test))\n"
   ]
  },
  {
   "cell_type": "code",
   "execution_count": 24,
   "metadata": {},
   "outputs": [
    {
     "name": "stdout",
     "output_type": "stream",
     "text": [
      "2/2 [==============================] - 0s 4ms/step - loss: 0.9298 - accuracy: 0.6000\n",
      "Test Loss: 0.9298095703125, Test Accuracy: 0.6000000238418579\n"
     ]
    }
   ],
   "source": [
    "# Evaluasi model pada data uji\n",
    "loss, accuracy = model.evaluate(X_test, y_test)\n",
    "print(f'Test Loss: {loss}, Test Accuracy: {accuracy}')"
   ]
  },
  {
   "cell_type": "code",
   "execution_count": 25,
   "metadata": {},
   "outputs": [
    {
     "name": "stdout",
     "output_type": "stream",
     "text": [
      "1/1 [==============================] - 0s 18ms/step\n",
      "Predicted Gender: Pria\n"
     ]
    },
    {
     "name": "stderr",
     "output_type": "stream",
     "text": [
      "c:\\Users\\agung\\anaconda3\\lib\\site-packages\\sklearn\\base.py:420: UserWarning: X does not have valid feature names, but StandardScaler was fitted with feature names\n",
      "  warnings.warn(\n"
     ]
    }
   ],
   "source": [
    "# Mencoba memprediksi gender untuk data baru\n",
    "new_data = np.array([[25, 20, 60]])  # Contoh data baru (Usia, Pendapatan, Pengeluaran)\n",
    "new_data = scaler.transform(new_data)\n",
    "prediction = model.predict(new_data)\n",
    "predicted_gender = 'Wanita' if prediction[0, 0] >= 0.5 else 'Pria'\n",
    "print(f'Predicted Gender: {predicted_gender}')"
   ]
  }
 ],
 "metadata": {
  "kernelspec": {
   "display_name": "base",
   "language": "python",
   "name": "python3"
  },
  "language_info": {
   "codemirror_mode": {
    "name": "ipython",
    "version": 3
   },
   "file_extension": ".py",
   "mimetype": "text/x-python",
   "name": "python",
   "nbconvert_exporter": "python",
   "pygments_lexer": "ipython3",
   "version": "3.10.9"
  }
 },
 "nbformat": 4,
 "nbformat_minor": 2
}
